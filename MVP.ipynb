{
 "cells": [
  {
   "cell_type": "markdown",
   "metadata": {},
   "source": [
    "# MVP: Analysis of IMDB Movie Reviews Project\n",
    "### Student Name: Samahir Bantan\n",
    "\n",
    "### The goal is to implement a model based on machine learning algorithm to classify the reviews based on the writer's way of highlighting his feelings and choosing the words that made the comment positive or negative.\n",
    "\n",
    "### For starter, I explored the data and do some preprocessing techniques for texts. Then, I analysed the data before building the model for better understanding. This file explain the process.\n",
    "\n",
    "### -------------------------------------------------------------------------"
   ]
  },
  {
   "cell_type": "markdown",
   "metadata": {},
   "source": [
    "#### (*) Import the necessary library to read the dataset and show 5 first rows"
   ]
  },
  {
   "cell_type": "code",
   "execution_count": 1,
   "metadata": {},
   "outputs": [
    {
     "data": {
      "text/html": [
       "<div>\n",
       "<style scoped>\n",
       "    .dataframe tbody tr th:only-of-type {\n",
       "        vertical-align: middle;\n",
       "    }\n",
       "\n",
       "    .dataframe tbody tr th {\n",
       "        vertical-align: top;\n",
       "    }\n",
       "\n",
       "    .dataframe thead th {\n",
       "        text-align: right;\n",
       "    }\n",
       "</style>\n",
       "<table border=\"1\" class=\"dataframe\">\n",
       "  <thead>\n",
       "    <tr style=\"text-align: right;\">\n",
       "      <th></th>\n",
       "      <th>review</th>\n",
       "      <th>sentiment</th>\n",
       "    </tr>\n",
       "  </thead>\n",
       "  <tbody>\n",
       "    <tr>\n",
       "      <th>0</th>\n",
       "      <td>One of the other reviewers has mentioned that ...</td>\n",
       "      <td>positive</td>\n",
       "    </tr>\n",
       "    <tr>\n",
       "      <th>1</th>\n",
       "      <td>A wonderful little production. &lt;br /&gt;&lt;br /&gt;The...</td>\n",
       "      <td>positive</td>\n",
       "    </tr>\n",
       "    <tr>\n",
       "      <th>2</th>\n",
       "      <td>I thought this was a wonderful way to spend ti...</td>\n",
       "      <td>positive</td>\n",
       "    </tr>\n",
       "    <tr>\n",
       "      <th>3</th>\n",
       "      <td>Basically there's a family where a little boy ...</td>\n",
       "      <td>negative</td>\n",
       "    </tr>\n",
       "    <tr>\n",
       "      <th>4</th>\n",
       "      <td>Petter Mattei's \"Love in the Time of Money\" is...</td>\n",
       "      <td>positive</td>\n",
       "    </tr>\n",
       "  </tbody>\n",
       "</table>\n",
       "</div>"
      ],
      "text/plain": [
       "                                              review sentiment\n",
       "0  One of the other reviewers has mentioned that ...  positive\n",
       "1  A wonderful little production. <br /><br />The...  positive\n",
       "2  I thought this was a wonderful way to spend ti...  positive\n",
       "3  Basically there's a family where a little boy ...  negative\n",
       "4  Petter Mattei's \"Love in the Time of Money\" is...  positive"
      ]
     },
     "execution_count": 1,
     "metadata": {},
     "output_type": "execute_result"
    }
   ],
   "source": [
    "import pandas as pd\n",
    "IMDB_data = pd.read_csv(\"IMDB Dataset.csv\")\n",
    "IMDB_data.head()"
   ]
  },
  {
   "cell_type": "markdown",
   "metadata": {},
   "source": [
    "#### (*) Lets do some preprocessing for the dataset\n",
    "1. Find duplicate rows -if it exists-"
   ]
  },
  {
   "cell_type": "code",
   "execution_count": 2,
   "metadata": {},
   "outputs": [
    {
     "data": {
      "text/plain": [
       "0        False\n",
       "1        False\n",
       "2        False\n",
       "3        False\n",
       "4        False\n",
       "         ...  \n",
       "49995    False\n",
       "49996    False\n",
       "49997    False\n",
       "49998    False\n",
       "49999    False\n",
       "Length: 50000, dtype: bool"
      ]
     },
     "execution_count": 2,
     "metadata": {},
     "output_type": "execute_result"
    }
   ],
   "source": [
    "isDuplicated = IMDB_data.duplicated(subset=None, keep='first')\n",
    "isDuplicated"
   ]
  },
  {
   "cell_type": "code",
   "execution_count": 3,
   "metadata": {},
   "outputs": [
    {
     "name": "stdout",
     "output_type": "stream",
     "text": [
      "index is:  3537 is duplicated?  True\n",
      "index is:  3769 is duplicated?  True\n",
      "index is:  4391 is duplicated?  True\n",
      "index is:  6352 is duplicated?  True\n",
      "index is:  6479 is duplicated?  True\n",
      "index is:  6672 is duplicated?  True\n",
      "index is:  7221 is duplicated?  True\n",
      "index is:  7222 is duplicated?  True\n",
      "index is:  7425 is duplicated?  True\n",
      "index is:  7555 is duplicated?  True\n",
      "index is:  8040 is duplicated?  True\n",
      "index is:  8801 is duplicated?  True\n",
      "index is:  8868 is duplicated?  True\n",
      "index is:  8874 is duplicated?  True\n",
      "index is:  9057 is duplicated?  True\n",
      "index is:  9503 is duplicated?  True\n",
      "index is:  9522 is duplicated?  True\n",
      "index is:  10054 is duplicated?  True\n",
      "index is:  10424 is duplicated?  True\n",
      "index is:  10868 is duplicated?  True\n",
      "index is:  11489 is duplicated?  True\n",
      "index is:  11682 is duplicated?  True\n",
      "index is:  11992 is duplicated?  True\n",
      "index is:  12531 is duplicated?  True\n",
      "index is:  12608 is duplicated?  True\n",
      "index is:  12819 is duplicated?  True\n",
      "index is:  12846 is duplicated?  True\n",
      "index is:  12936 is duplicated?  True\n",
      "index is:  13265 is duplicated?  True\n",
      "index is:  13267 is duplicated?  True\n",
      "index is:  13807 is duplicated?  True\n",
      "index is:  13811 is duplicated?  True\n",
      "index is:  13825 is duplicated?  True\n",
      "index is:  13858 is duplicated?  True\n",
      "index is:  13964 is duplicated?  True\n",
      "index is:  14117 is duplicated?  True\n",
      "index is:  14154 is duplicated?  True\n",
      "index is:  14293 is duplicated?  True\n",
      "index is:  14858 is duplicated?  True\n",
      "index is:  15305 is duplicated?  True\n",
      "index is:  15637 is duplicated?  True\n",
      "index is:  15725 is duplicated?  True\n",
      "index is:  15738 is duplicated?  True\n",
      "index is:  15849 is duplicated?  True\n",
      "index is:  16043 is duplicated?  True\n",
      "index is:  16117 is duplicated?  True\n",
      "index is:  16327 is duplicated?  True\n",
      "index is:  16340 is duplicated?  True\n",
      "index is:  16469 is duplicated?  True\n",
      "index is:  16834 is duplicated?  True\n",
      "index is:  16835 is duplicated?  True\n",
      "index is:  17235 is duplicated?  True\n",
      "index is:  17307 is duplicated?  True\n",
      "index is:  17704 is duplicated?  True\n",
      "index is:  17801 is duplicated?  True\n",
      "index is:  17840 is duplicated?  True\n",
      "index is:  17846 is duplicated?  True\n",
      "index is:  17859 is duplicated?  True\n",
      "index is:  18467 is duplicated?  True\n",
      "index is:  18608 is duplicated?  True\n",
      "index is:  18643 is duplicated?  True\n",
      "index is:  18885 is duplicated?  True\n",
      "index is:  18969 is duplicated?  True\n",
      "index is:  19242 is duplicated?  True\n",
      "index is:  19495 is duplicated?  True\n",
      "index is:  19504 is duplicated?  True\n",
      "index is:  19544 is duplicated?  True\n",
      "index is:  19653 is duplicated?  True\n",
      "index is:  19712 is duplicated?  True\n",
      "index is:  19720 is duplicated?  True\n",
      "index is:  19827 is duplicated?  True\n",
      "index is:  19861 is duplicated?  True\n",
      "index is:  19890 is duplicated?  True\n",
      "index is:  19895 is duplicated?  True\n",
      "index is:  20042 is duplicated?  True\n",
      "index is:  20489 is duplicated?  True\n",
      "index is:  20835 is duplicated?  True\n",
      "index is:  21377 is duplicated?  True\n",
      "index is:  21378 is duplicated?  True\n",
      "index is:  21585 is duplicated?  True\n",
      "index is:  21616 is duplicated?  True\n",
      "index is:  21674 is duplicated?  True\n",
      "index is:  21867 is duplicated?  True\n",
      "index is:  21969 is duplicated?  True\n",
      "index is:  22096 is duplicated?  True\n",
      "index is:  22112 is duplicated?  True\n",
      "index is:  22113 is duplicated?  True\n",
      "index is:  22185 is duplicated?  True\n",
      "index is:  22234 is duplicated?  True\n",
      "index is:  22449 is duplicated?  True\n",
      "index is:  22577 is duplicated?  True\n",
      "index is:  22647 is duplicated?  True\n",
      "index is:  23247 is duplicated?  True\n",
      "index is:  23332 is duplicated?  True\n",
      "index is:  23363 is duplicated?  True\n",
      "index is:  23419 is duplicated?  True\n",
      "index is:  23555 is duplicated?  True\n",
      "index is:  23790 is duplicated?  True\n",
      "index is:  23818 is duplicated?  True\n",
      "index is:  23938 is duplicated?  True\n",
      "index is:  24255 is duplicated?  True\n",
      "index is:  24586 is duplicated?  True\n",
      "index is:  24649 is duplicated?  True\n",
      "index is:  25062 is duplicated?  True\n",
      "index is:  25088 is duplicated?  True\n",
      "index is:  25133 is duplicated?  True\n",
      "index is:  25351 is duplicated?  True\n",
      "index is:  25360 is duplicated?  True\n",
      "index is:  25423 is duplicated?  True\n",
      "index is:  25690 is duplicated?  True\n",
      "index is:  25784 is duplicated?  True\n",
      "index is:  26355 is duplicated?  True\n",
      "index is:  26393 is duplicated?  True\n",
      "index is:  26412 is duplicated?  True\n",
      "index is:  26442 is duplicated?  True\n",
      "index is:  26453 is duplicated?  True\n",
      "index is:  26500 is duplicated?  True\n",
      "index is:  26987 is duplicated?  True\n",
      "index is:  27265 is duplicated?  True\n",
      "index is:  27332 is duplicated?  True\n",
      "index is:  27341 is duplicated?  True\n",
      "index is:  27350 is duplicated?  True\n",
      "index is:  27525 is duplicated?  True\n",
      "index is:  27554 is duplicated?  True\n",
      "index is:  27586 is duplicated?  True\n",
      "index is:  27728 is duplicated?  True\n",
      "index is:  27754 is duplicated?  True\n",
      "index is:  27901 is duplicated?  True\n",
      "index is:  27959 is duplicated?  True\n",
      "index is:  28033 is duplicated?  True\n",
      "index is:  28346 is duplicated?  True\n",
      "index is:  28541 is duplicated?  True\n",
      "index is:  28750 is duplicated?  True\n",
      "index is:  28751 is duplicated?  True\n",
      "index is:  28828 is duplicated?  True\n",
      "index is:  29043 is duplicated?  True\n",
      "index is:  29201 is duplicated?  True\n",
      "index is:  29254 is duplicated?  True\n",
      "index is:  29259 is duplicated?  True\n",
      "index is:  29324 is duplicated?  True\n",
      "index is:  29355 is duplicated?  True\n",
      "index is:  29384 is duplicated?  True\n",
      "index is:  29397 is duplicated?  True\n",
      "index is:  29557 is duplicated?  True\n",
      "index is:  29762 is duplicated?  True\n",
      "index is:  29926 is duplicated?  True\n",
      "index is:  30029 is duplicated?  True\n",
      "index is:  30057 is duplicated?  True\n",
      "index is:  30101 is duplicated?  True\n",
      "index is:  30252 is duplicated?  True\n",
      "index is:  30299 is duplicated?  True\n",
      "index is:  30301 is duplicated?  True\n",
      "index is:  30343 is duplicated?  True\n",
      "index is:  30347 is duplicated?  True\n",
      "index is:  30436 is duplicated?  True\n",
      "index is:  30463 is duplicated?  True\n",
      "index is:  30500 is duplicated?  True\n",
      "index is:  30534 is duplicated?  True\n",
      "index is:  30574 is duplicated?  True\n",
      "index is:  30638 is duplicated?  True\n",
      "index is:  30658 is duplicated?  True\n",
      "index is:  30799 is duplicated?  True\n",
      "index is:  30828 is duplicated?  True\n",
      "index is:  30991 is duplicated?  True\n",
      "index is:  31093 is duplicated?  True\n",
      "index is:  31134 is duplicated?  True\n",
      "index is:  31150 is duplicated?  True\n",
      "index is:  31234 is duplicated?  True\n",
      "index is:  31395 is duplicated?  True\n",
      "index is:  31423 is duplicated?  True\n",
      "index is:  31428 is duplicated?  True\n",
      "index is:  31460 is duplicated?  True\n",
      "index is:  31488 is duplicated?  True\n",
      "index is:  31610 is duplicated?  True\n",
      "index is:  31842 is duplicated?  True\n",
      "index is:  32019 is duplicated?  True\n",
      "index is:  32031 is duplicated?  True\n",
      "index is:  32057 is duplicated?  True\n",
      "index is:  32077 is duplicated?  True\n",
      "index is:  32144 is duplicated?  True\n",
      "index is:  32183 is duplicated?  True\n",
      "index is:  32237 is duplicated?  True\n",
      "index is:  32260 is duplicated?  True\n",
      "index is:  32270 is duplicated?  True\n",
      "index is:  32588 is duplicated?  True\n",
      "index is:  32926 is duplicated?  True\n",
      "index is:  33413 is duplicated?  True\n",
      "index is:  33417 is duplicated?  True\n",
      "index is:  33486 is duplicated?  True\n",
      "index is:  33605 is duplicated?  True\n",
      "index is:  33702 is duplicated?  True\n",
      "index is:  33735 is duplicated?  True\n",
      "index is:  33941 is duplicated?  True\n",
      "index is:  33976 is duplicated?  True\n",
      "index is:  34080 is duplicated?  True\n",
      "index is:  34142 is duplicated?  True\n",
      "index is:  34155 is duplicated?  True\n",
      "index is:  34313 is duplicated?  True\n",
      "index is:  34387 is duplicated?  True\n",
      "index is:  34519 is duplicated?  True\n",
      "index is:  34523 is duplicated?  True\n",
      "index is:  34546 is duplicated?  True\n",
      "index is:  34810 is duplicated?  True\n",
      "index is:  34938 is duplicated?  True\n",
      "index is:  35074 is duplicated?  True\n",
      "index is:  35294 is duplicated?  True\n",
      "index is:  35475 is duplicated?  True\n",
      "index is:  35578 is duplicated?  True\n",
      "index is:  35594 is duplicated?  True\n",
      "index is:  35613 is duplicated?  True\n",
      "index is:  35650 is duplicated?  True\n",
      "index is:  35705 is duplicated?  True\n",
      "index is:  35795 is duplicated?  True\n",
      "index is:  35855 is duplicated?  True\n",
      "index is:  35997 is duplicated?  True\n",
      "index is:  36207 is duplicated?  True\n",
      "index is:  36218 is duplicated?  True\n",
      "index is:  36345 is duplicated?  True\n",
      "index is:  36364 is duplicated?  True\n",
      "index is:  36417 is duplicated?  True\n",
      "index is:  36526 is duplicated?  True\n",
      "index is:  36587 is duplicated?  True\n",
      "index is:  36595 is duplicated?  True\n",
      "index is:  36604 is duplicated?  True\n",
      "index is:  36681 is duplicated?  True\n",
      "index is:  36716 is duplicated?  True\n",
      "index is:  36740 is duplicated?  True\n",
      "index is:  36835 is duplicated?  True\n",
      "index is:  36952 is duplicated?  True\n",
      "index is:  36965 is duplicated?  True\n",
      "index is:  36975 is duplicated?  True\n",
      "index is:  37015 is duplicated?  True\n",
      "index is:  37096 is duplicated?  True\n",
      "index is:  37205 is duplicated?  True\n",
      "index is:  37314 is duplicated?  True\n",
      "index is:  37351 is duplicated?  True\n",
      "index is:  37418 is duplicated?  True\n",
      "index is:  37456 is duplicated?  True\n",
      "index is:  37655 is duplicated?  True\n",
      "index is:  37718 is duplicated?  True\n",
      "index is:  37755 is duplicated?  True\n",
      "index is:  37958 is duplicated?  True\n",
      "index is:  38026 is duplicated?  True\n",
      "index is:  38176 is duplicated?  True\n",
      "index is:  38195 is duplicated?  True\n",
      "index is:  38268 is duplicated?  True\n",
      "index is:  38356 is duplicated?  True\n",
      "index is:  38519 is duplicated?  True\n",
      "index is:  38551 is duplicated?  True\n",
      "index is:  38612 is duplicated?  True\n",
      "index is:  38693 is duplicated?  True\n",
      "index is:  38836 is duplicated?  True\n",
      "index is:  38852 is duplicated?  True\n",
      "index is:  38905 is duplicated?  True\n",
      "index is:  38961 is duplicated?  True\n",
      "index is:  38984 is duplicated?  True\n",
      "index is:  39355 is duplicated?  True\n",
      "index is:  39401 is duplicated?  True\n",
      "index is:  39505 is duplicated?  True\n",
      "index is:  39798 is duplicated?  True\n",
      "index is:  39822 is duplicated?  True\n",
      "index is:  39830 is duplicated?  True\n",
      "index is:  39850 is duplicated?  True\n",
      "index is:  39916 is duplicated?  True\n",
      "index is:  39923 is duplicated?  True\n",
      "index is:  39933 is duplicated?  True\n",
      "index is:  40016 is duplicated?  True\n",
      "index is:  40058 is duplicated?  True\n",
      "index is:  40111 is duplicated?  True\n",
      "index is:  40230 is duplicated?  True\n",
      "index is:  40291 is duplicated?  True\n",
      "index is:  40343 is duplicated?  True\n",
      "index is:  40372 is duplicated?  True\n",
      "index is:  40420 is duplicated?  True\n",
      "index is:  40980 is duplicated?  True\n",
      "index is:  40981 is duplicated?  True\n",
      "index is:  41140 is duplicated?  True\n",
      "index is:  41247 is duplicated?  True\n",
      "index is:  41577 is duplicated?  True\n",
      "index is:  41655 is duplicated?  True\n",
      "index is:  41699 is duplicated?  True\n",
      "index is:  41715 is duplicated?  True\n",
      "index is:  41821 is duplicated?  True\n",
      "index is:  42045 is duplicated?  True\n",
      "index is:  42263 is duplicated?  True\n",
      "index is:  42384 is duplicated?  True\n",
      "index is:  42385 is duplicated?  True\n",
      "index is:  42544 is duplicated?  True\n",
      "index is:  42607 is duplicated?  True\n",
      "index is:  42680 is duplicated?  True\n",
      "index is:  42725 is duplicated?  True\n",
      "index is:  42745 is duplicated?  True\n",
      "index is:  42756 is duplicated?  True\n",
      "index is:  42903 is duplicated?  True\n",
      "index is:  43132 is duplicated?  True\n",
      "index is:  43145 is duplicated?  True\n",
      "index is:  43220 is duplicated?  True\n",
      "index is:  43245 is duplicated?  True\n",
      "index is:  43272 is duplicated?  True\n",
      "index is:  43323 is duplicated?  True\n",
      "index is:  43361 is duplicated?  True\n",
      "index is:  43439 is duplicated?  True\n",
      "index is:  43468 is duplicated?  True\n",
      "index is:  43511 is duplicated?  True\n",
      "index is:  43530 is duplicated?  True\n",
      "index is:  43532 is duplicated?  True\n",
      "index is:  43563 is duplicated?  True\n",
      "index is:  43652 is duplicated?  True\n",
      "index is:  43831 is duplicated?  True\n",
      "index is:  43907 is duplicated?  True\n",
      "index is:  43926 is duplicated?  True\n",
      "index is:  43987 is duplicated?  True\n",
      "index is:  44097 is duplicated?  True\n",
      "index is:  44122 is duplicated?  True\n",
      "index is:  44230 is duplicated?  True\n",
      "index is:  44234 is duplicated?  True\n",
      "index is:  44313 is duplicated?  True\n",
      "index is:  44346 is duplicated?  True\n",
      "index is:  44392 is duplicated?  True\n",
      "index is:  44541 is duplicated?  True\n",
      "index is:  44567 is duplicated?  True\n",
      "index is:  44605 is duplicated?  True\n",
      "index is:  44745 is duplicated?  True\n",
      "index is:  44787 is duplicated?  True\n",
      "index is:  44799 is duplicated?  True\n",
      "index is:  44925 is duplicated?  True\n",
      "index is:  44990 is duplicated?  True\n",
      "index is:  45147 is duplicated?  True\n",
      "index is:  45196 is duplicated?  True\n",
      "index is:  45234 is duplicated?  True\n",
      "index is:  45253 is duplicated?  True\n",
      "index is:  45332 is duplicated?  True\n",
      "index is:  45333 is duplicated?  True\n",
      "index is:  45432 is duplicated?  True\n",
      "index is:  45462 is duplicated?  True\n",
      "index is:  45515 is duplicated?  True\n",
      "index is:  45696 is duplicated?  True\n",
      "index is:  45722 is duplicated?  True\n",
      "index is:  45777 is duplicated?  True\n",
      "index is:  45844 is duplicated?  True\n",
      "index is:  45845 is duplicated?  True\n",
      "index is:  46116 is duplicated?  True\n",
      "index is:  46165 is duplicated?  True\n",
      "index is:  46194 is duplicated?  True\n",
      "index is:  46234 is duplicated?  True\n",
      "index is:  46235 is duplicated?  True\n",
      "index is:  46277 is duplicated?  True\n",
      "index is:  46325 is duplicated?  True\n",
      "index is:  46372 is duplicated?  True\n",
      "index is:  46456 is duplicated?  True\n",
      "index is:  46605 is duplicated?  True\n",
      "index is:  46769 is duplicated?  True\n",
      "index is:  46779 is duplicated?  True\n",
      "index is:  46944 is duplicated?  True\n",
      "index is:  46953 is duplicated?  True\n",
      "index is:  46976 is duplicated?  True\n",
      "index is:  47023 is duplicated?  True\n",
      "index is:  47116 is duplicated?  True\n",
      "index is:  47138 is duplicated?  True\n",
      "index is:  47205 is duplicated?  True\n",
      "index is:  47229 is duplicated?  True\n",
      "index is:  47279 is duplicated?  True\n",
      "index is:  47297 is duplicated?  True\n",
      "index is:  47350 is duplicated?  True\n",
      "index is:  47426 is duplicated?  True\n",
      "index is:  47431 is duplicated?  True\n"
     ]
    },
    {
     "name": "stdout",
     "output_type": "stream",
     "text": [
      "index is:  47467 is duplicated?  True\n",
      "index is:  47527 is duplicated?  True\n",
      "index is:  47642 is duplicated?  True\n",
      "index is:  47673 is duplicated?  True\n",
      "index is:  47705 is duplicated?  True\n",
      "index is:  47733 is duplicated?  True\n",
      "index is:  47765 is duplicated?  True\n",
      "index is:  47790 is duplicated?  True\n",
      "index is:  47864 is duplicated?  True\n",
      "index is:  47876 is duplicated?  True\n",
      "index is:  47890 is duplicated?  True\n",
      "index is:  47979 is duplicated?  True\n",
      "index is:  48010 is duplicated?  True\n",
      "index is:  48045 is duplicated?  True\n",
      "index is:  48058 is duplicated?  True\n",
      "index is:  48060 is duplicated?  True\n",
      "index is:  48156 is duplicated?  True\n",
      "index is:  48304 is duplicated?  True\n",
      "index is:  48355 is duplicated?  True\n",
      "index is:  48383 is duplicated?  True\n",
      "index is:  48444 is duplicated?  True\n",
      "index is:  48581 is duplicated?  True\n",
      "index is:  48583 is duplicated?  True\n",
      "index is:  48607 is duplicated?  True\n",
      "index is:  48624 is duplicated?  True\n",
      "index is:  48775 is duplicated?  True\n",
      "index is:  48837 is duplicated?  True\n",
      "index is:  48927 is duplicated?  True\n",
      "index is:  48946 is duplicated?  True\n",
      "index is:  48984 is duplicated?  True\n",
      "index is:  49011 is duplicated?  True\n",
      "index is:  49023 is duplicated?  True\n",
      "index is:  49079 is duplicated?  True\n",
      "index is:  49088 is duplicated?  True\n",
      "index is:  49126 is duplicated?  True\n",
      "index is:  49143 is duplicated?  True\n",
      "index is:  49157 is duplicated?  True\n",
      "index is:  49196 is duplicated?  True\n",
      "index is:  49206 is duplicated?  True\n",
      "index is:  49216 is duplicated?  True\n",
      "index is:  49224 is duplicated?  True\n",
      "index is:  49286 is duplicated?  True\n",
      "index is:  49361 is duplicated?  True\n",
      "index is:  49595 is duplicated?  True\n",
      "index is:  49695 is duplicated?  True\n",
      "index is:  49781 is duplicated?  True\n",
      "index is:  49871 is duplicated?  True\n",
      "index is:  49912 is duplicated?  True\n",
      "index is:  49950 is duplicated?  True\n",
      "index is:  49984 is duplicated?  True\n",
      "index is:  49986 is duplicated?  True\n",
      "index is:  49991 is duplicated?  True\n"
     ]
    }
   ],
   "source": [
    "#because the dataset is huge, I coded for printing only the duplicate once\n",
    "dupl_rows = []\n",
    "for i in range(len(isDuplicated)):\n",
    "    if(isDuplicated[i]==True):\n",
    "        dupl_rows.append(i)\n",
    "        print('index is: ',i, 'is duplicated? ',isDuplicated[i])"
   ]
  },
  {
   "cell_type": "code",
   "execution_count": 4,
   "metadata": {},
   "outputs": [
    {
     "data": {
      "text/plain": [
       "49582"
      ]
     },
     "execution_count": 4,
     "metadata": {},
     "output_type": "execute_result"
    }
   ],
   "source": [
    "#There is actually a duplicate rows. So, remove them\n",
    "cleaned_data = IMDB_data.drop(dupl_rows, axis=0)\n",
    "len(cleaned_data)"
   ]
  },
  {
   "cell_type": "markdown",
   "metadata": {},
   "source": [
    "#### (*) Continue do some preprocessing for the dataset\n",
    "2. Check if there is missing data"
   ]
  },
  {
   "cell_type": "code",
   "execution_count": 5,
   "metadata": {},
   "outputs": [
    {
     "name": "stdout",
     "output_type": "stream",
     "text": [
      "<class 'pandas.core.frame.DataFrame'>\n",
      "Int64Index: 49582 entries, 0 to 49999\n",
      "Data columns (total 2 columns):\n",
      " #   Column     Non-Null Count  Dtype \n",
      "---  ------     --------------  ----- \n",
      " 0   review     49582 non-null  object\n",
      " 1   sentiment  49582 non-null  object\n",
      "dtypes: object(2)\n",
      "memory usage: 1.1+ MB\n"
     ]
    }
   ],
   "source": [
    "cleaned_data.info()\n",
    "#Result show there is no missing values "
   ]
  },
  {
   "cell_type": "markdown",
   "metadata": {},
   "source": [
    "#### (*) Continue do some preprocessing for the dataset\n",
    "3. Check if the data is balanced"
   ]
  },
  {
   "cell_type": "code",
   "execution_count": 6,
   "metadata": {},
   "outputs": [
    {
     "data": {
      "image/png": "[encoded data removed]",
      "text/plain": [
       "<Figure size 432x288 with 1 Axes>"
      ]
     },
     "metadata": {
      "needs_background": "light"
     },
     "output_type": "display_data"
    }
   ],
   "source": [
    "import seaborn as sns\n",
    "ax = sns.countplot(cleaned_data['sentiment']);\n",
    "for p in ax.patches:\n",
    "   ax.annotate('{:.1f}'.format(p.get_height()), (p.get_x()+0.25, p.get_height()+0.01))"
   ]
  },
  {
   "cell_type": "code",
   "execution_count": 7,
   "metadata": {},
   "outputs": [
    {
     "data": {
      "text/plain": [
       "positive    24884\n",
       "negative    24698\n",
       "Name: sentiment, dtype: int64"
      ]
     },
     "execution_count": 7,
     "metadata": {},
     "output_type": "execute_result"
    }
   ],
   "source": [
    "new = cleaned_data['sentiment'].value_counts()\n",
    "new"
   ]
  },
  {
   "cell_type": "markdown",
   "metadata": {},
   "source": [
    "The dataset is imbalanced -positive reviews > negative reviews-\n",
    "\n",
    "Since the differance between +ve and -ve is 186, I would use under sampling method to solve this problem"
   ]
  },
  {
   "cell_type": "code",
   "execution_count": 8,
   "metadata": {},
   "outputs": [],
   "source": [
    "X = cleaned_data['review'].values.reshape(-1, 1)\n",
    "y = cleaned_data['sentiment']"
   ]
  },
  {
   "cell_type": "code",
   "execution_count": 9,
   "metadata": {},
   "outputs": [
    {
     "data": {
      "text/plain": [
       "positive    24698\n",
       "negative    24698\n",
       "Name: sentiment, dtype: int64"
      ]
     },
     "execution_count": 9,
     "metadata": {},
     "output_type": "execute_result"
    }
   ],
   "source": [
    "#Do undersampling method to balance the data\n",
    "from imblearn.under_sampling import RandomUnderSampler\n",
    "\n",
    "undersample = RandomUnderSampler(sampling_strategy='majority')\n",
    "X_sampled, y_sampled = undersample.fit_resample(X, y)\n",
    "y_sampled.value_counts()\n",
    "\n",
    "#notice; if we added 24698+24698+(difference 186) the total would be the orignal data after delete the duplicated rows"
   ]
  },
  {
   "cell_type": "markdown",
   "metadata": {},
   "source": [
    "#### (*) Do NLTK\n",
    "1. Remove speical charachers"
   ]
  },
  {
   "cell_type": "code",
   "execution_count": 10,
   "metadata": {},
   "outputs": [
    {
     "data": {
      "text/plain": [
       "0        Basically there's a family where a little boy ...\n",
       "1        This show was an amazing, fresh & innovative i...\n",
       "2        Encouraged by the positive comments about this...\n",
       "3        Phil the Alien is one of those quirky films wh...\n",
       "4        I saw this movie when I was about 12 when it c...\n",
       "                               ...                        \n",
       "49391    Early in the movie, Cagney's Johnny Cave chara...\n",
       "49392    The sequel is exactly what you will expect it ...\n",
       "49393    MCBOING BOING is one of the cartoons that have...\n",
       "49394    Being the Beatlemaniac that I am, I approached...\n",
       "49395    This is a decent effort for a B-Movie Martial ...\n",
       "Length: 49396, dtype: object"
      ]
     },
     "execution_count": 10,
     "metadata": {},
     "output_type": "execute_result"
    }
   ],
   "source": [
    "#convert x_sampled into pandas series instead of numpy 2D-array\n",
    "X_sampled = pd.Series(X_sampled.flatten())\n",
    "X_sampled"
   ]
  },
  {
   "cell_type": "code",
   "execution_count": 11,
   "metadata": {},
   "outputs": [
    {
     "data": {
      "text/plain": [
       "0        Basically theres a family where a little boy J...\n",
       "1        This show was an amazing fresh  innovative ide...\n",
       "2        Encouraged by the positive comments about this...\n",
       "3        Phil the Alien is one of those quirky films wh...\n",
       "4        I saw this movie when I was about 12 when it c...\n",
       "                               ...                        \n",
       "49391    Early in the movie Cagneys Johnny Cave charact...\n",
       "49392    The sequel is exactly what you will expect it ...\n",
       "49393    MCBOING BOING is one of the cartoons that have...\n",
       "49394    Being the Beatlemaniac that I am I approached ...\n",
       "49395    This is a decent effort for a BMovie Martial A...\n",
       "Length: 49396, dtype: object"
      ]
     },
     "execution_count": 11,
     "metadata": {},
     "output_type": "execute_result"
    }
   ],
   "source": [
    "#remove special character code\n",
    "X_sampled = X_sampled.replace(r'[^A-Za-z0-9 ]+', '', regex=True)\n",
    "X_sampled"
   ]
  },
  {
   "cell_type": "markdown",
   "metadata": {},
   "source": [
    "#### (*) Continue doing NLTK\n",
    "2. Convert all reviews into lowercase"
   ]
  },
  {
   "cell_type": "code",
   "execution_count": 12,
   "metadata": {},
   "outputs": [
    {
     "data": {
      "text/plain": [
       "0        basically theres a family where a little boy j...\n",
       "1        this show was an amazing fresh  innovative ide...\n",
       "2        encouraged by the positive comments about this...\n",
       "3        phil the alien is one of those quirky films wh...\n",
       "4        i saw this movie when i was about 12 when it c...\n",
       "                               ...                        \n",
       "49391    early in the movie cagneys johnny cave charact...\n",
       "49392    the sequel is exactly what you will expect it ...\n",
       "49393    mcboing boing is one of the cartoons that have...\n",
       "49394    being the beatlemaniac that i am i approached ...\n",
       "49395    this is a decent effort for a bmovie martial a...\n",
       "Length: 49396, dtype: object"
      ]
     },
     "execution_count": 12,
     "metadata": {},
     "output_type": "execute_result"
    }
   ],
   "source": [
    "X_sampled = X_sampled.str.lower()\n",
    "X_sampled"
   ]
  },
  {
   "cell_type": "markdown",
   "metadata": {},
   "source": [
    "#### (*) Continue doing NLTK\n",
    "3. Remove stop words"
   ]
  },
  {
   "cell_type": "code",
   "execution_count": 13,
   "metadata": {},
   "outputs": [
    {
     "data": {
      "text/plain": [
       "0    basically theres a family where a little boy j...\n",
       "1    this show was an amazing fresh  innovative ide...\n",
       "2    encouraged by the positive comments about this...\n",
       "3    phil the alien is one of those quirky films wh...\n",
       "4    i saw this movie when i was about 12 when it c...\n",
       "dtype: object"
      ]
     },
     "execution_count": 13,
     "metadata": {},
     "output_type": "execute_result"
    }
   ],
   "source": [
    "#make a copy of X_sampled\n",
    "X_withoutStopWords = X_sampled.copy()\n",
    "X_withoutStopWords.head()"
   ]
  },
  {
   "cell_type": "code",
   "execution_count": 14,
   "metadata": {},
   "outputs": [
    {
     "data": {
      "text/plain": [
       "706"
      ]
     },
     "execution_count": 14,
     "metadata": {},
     "output_type": "execute_result"
    }
   ],
   "source": [
    "#check number of the words in the first review before removing stop words\n",
    "len(X_withoutStopWords.loc[0])"
   ]
  },
  {
   "cell_type": "code",
   "execution_count": 15,
   "metadata": {},
   "outputs": [],
   "source": [
    "#remove stop word\n",
    "import nltk\n",
    "from nltk.corpus import stopwords\n",
    "\n",
    "for index, value in X_withoutStopWords.items():\n",
    "    words = nltk.word_tokenize(value)\n",
    "    X_withoutStopWords.loc[index] = [word for word in words if word not in stopwords.words('english')]"
   ]
  },
  {
   "cell_type": "code",
   "execution_count": 16,
   "metadata": {},
   "outputs": [
    {
     "data": {
      "text/plain": [
       "72"
      ]
     },
     "execution_count": 16,
     "metadata": {},
     "output_type": "execute_result"
    }
   ],
   "source": [
    "#check number of the words in the first review after removing stop words\n",
    "len(X_withoutStopWords.loc[0])"
   ]
  },
  {
   "cell_type": "markdown",
   "metadata": {},
   "source": [
    "#### (*) Analysis of the dataset\n",
    "Count frequency of words of each diffrenet lable"
   ]
  },
  {
   "cell_type": "code",
   "execution_count": 17,
   "metadata": {},
   "outputs": [
    {
     "data": {
      "text/html": [
       "<div>\n",
       "<style scoped>\n",
       "    .dataframe tbody tr th:only-of-type {\n",
       "        vertical-align: middle;\n",
       "    }\n",
       "\n",
       "    .dataframe tbody tr th {\n",
       "        vertical-align: top;\n",
       "    }\n",
       "\n",
       "    .dataframe thead th {\n",
       "        text-align: right;\n",
       "    }\n",
       "</style>\n",
       "<table border=\"1\" class=\"dataframe\">\n",
       "  <thead>\n",
       "    <tr style=\"text-align: right;\">\n",
       "      <th></th>\n",
       "      <th>review</th>\n",
       "      <th>sentiment</th>\n",
       "    </tr>\n",
       "  </thead>\n",
       "  <tbody>\n",
       "    <tr>\n",
       "      <th>0</th>\n",
       "      <td>[basically, theres, family, little, boy, jake,...</td>\n",
       "      <td>negative</td>\n",
       "    </tr>\n",
       "    <tr>\n",
       "      <th>1</th>\n",
       "      <td>[show, amazing, fresh, innovative, idea, 70s, ...</td>\n",
       "      <td>negative</td>\n",
       "    </tr>\n",
       "    <tr>\n",
       "      <th>2</th>\n",
       "      <td>[encouraged, positive, comments, film, looking...</td>\n",
       "      <td>negative</td>\n",
       "    </tr>\n",
       "    <tr>\n",
       "      <th>3</th>\n",
       "      <td>[phil, alien, one, quirky, films, humour, base...</td>\n",
       "      <td>negative</td>\n",
       "    </tr>\n",
       "    <tr>\n",
       "      <th>4</th>\n",
       "      <td>[saw, movie, 12, came, recall, scariest, scene...</td>\n",
       "      <td>negative</td>\n",
       "    </tr>\n",
       "  </tbody>\n",
       "</table>\n",
       "</div>"
      ],
      "text/plain": [
       "                                              review sentiment\n",
       "0  [basically, theres, family, little, boy, jake,...  negative\n",
       "1  [show, amazing, fresh, innovative, idea, 70s, ...  negative\n",
       "2  [encouraged, positive, comments, film, looking...  negative\n",
       "3  [phil, alien, one, quirky, films, humour, base...  negative\n",
       "4  [saw, movie, 12, came, recall, scariest, scene...  negative"
      ]
     },
     "execution_count": 17,
     "metadata": {},
     "output_type": "execute_result"
    }
   ],
   "source": [
    "#map dataset\n",
    "a = {\"review\": X_withoutStopWords,\"sentiment\": y_sampled}\n",
    "cleaned_dataset = pd.DataFrame(a)\n",
    "cleaned_dataset.head()"
   ]
  },
  {
   "cell_type": "code",
   "execution_count": 18,
   "metadata": {},
   "outputs": [
    {
     "data": {
      "text/html": [
       "<div>\n",
       "<style scoped>\n",
       "    .dataframe tbody tr th:only-of-type {\n",
       "        vertical-align: middle;\n",
       "    }\n",
       "\n",
       "    .dataframe tbody tr th {\n",
       "        vertical-align: top;\n",
       "    }\n",
       "\n",
       "    .dataframe thead th {\n",
       "        text-align: right;\n",
       "    }\n",
       "</style>\n",
       "<table border=\"1\" class=\"dataframe\">\n",
       "  <thead>\n",
       "    <tr style=\"text-align: right;\">\n",
       "      <th></th>\n",
       "      <th>review</th>\n",
       "      <th>sentiment</th>\n",
       "    </tr>\n",
       "  </thead>\n",
       "  <tbody>\n",
       "    <tr>\n",
       "      <th>24698</th>\n",
       "      <td>[first, aired, masterpiece, theatre, profound,...</td>\n",
       "      <td>positive</td>\n",
       "    </tr>\n",
       "    <tr>\n",
       "      <th>24699</th>\n",
       "      <td>[bunch, american, students, tutor, decide, vis...</td>\n",
       "      <td>positive</td>\n",
       "    </tr>\n",
       "    <tr>\n",
       "      <th>24700</th>\n",
       "      <td>[refreshing, breath, air, movie, actually, giv...</td>\n",
       "      <td>positive</td>\n",
       "    </tr>\n",
       "    <tr>\n",
       "      <th>24701</th>\n",
       "      <td>[opening, night, released, 1977, tries, ambiti...</td>\n",
       "      <td>positive</td>\n",
       "    </tr>\n",
       "    <tr>\n",
       "      <th>24702</th>\n",
       "      <td>[love, movie, mean, story, may, best, dancing,...</td>\n",
       "      <td>positive</td>\n",
       "    </tr>\n",
       "    <tr>\n",
       "      <th>...</th>\n",
       "      <td>...</td>\n",
       "      <td>...</td>\n",
       "    </tr>\n",
       "    <tr>\n",
       "      <th>49391</th>\n",
       "      <td>[early, movie, cagneys, johnny, cave, characte...</td>\n",
       "      <td>positive</td>\n",
       "    </tr>\n",
       "    <tr>\n",
       "      <th>49392</th>\n",
       "      <td>[sequel, exactly, expect, good, enough, everyo...</td>\n",
       "      <td>positive</td>\n",
       "    </tr>\n",
       "    <tr>\n",
       "      <th>49393</th>\n",
       "      <td>[mcboing, boing, one, cartoons, stuck, head, y...</td>\n",
       "      <td>positive</td>\n",
       "    </tr>\n",
       "    <tr>\n",
       "      <th>49394</th>\n",
       "      <td>[beatlemaniac, approached, two, us, combinatio...</td>\n",
       "      <td>positive</td>\n",
       "    </tr>\n",
       "    <tr>\n",
       "      <th>49395</th>\n",
       "      <td>[decent, effort, bmovie, martial, arts, action...</td>\n",
       "      <td>positive</td>\n",
       "    </tr>\n",
       "  </tbody>\n",
       "</table>\n",
       "<p>24698 rows × 2 columns</p>\n",
       "</div>"
      ],
      "text/plain": [
       "                                                  review sentiment\n",
       "24698  [first, aired, masterpiece, theatre, profound,...  positive\n",
       "24699  [bunch, american, students, tutor, decide, vis...  positive\n",
       "24700  [refreshing, breath, air, movie, actually, giv...  positive\n",
       "24701  [opening, night, released, 1977, tries, ambiti...  positive\n",
       "24702  [love, movie, mean, story, may, best, dancing,...  positive\n",
       "...                                                  ...       ...\n",
       "49391  [early, movie, cagneys, johnny, cave, characte...  positive\n",
       "49392  [sequel, exactly, expect, good, enough, everyo...  positive\n",
       "49393  [mcboing, boing, one, cartoons, stuck, head, y...  positive\n",
       "49394  [beatlemaniac, approached, two, us, combinatio...  positive\n",
       "49395  [decent, effort, bmovie, martial, arts, action...  positive\n",
       "\n",
       "[24698 rows x 2 columns]"
      ]
     },
     "execution_count": 18,
     "metadata": {},
     "output_type": "execute_result"
    }
   ],
   "source": [
    "#store +ve and -ve reviews in a different variables\n",
    "positve_rev = cleaned_dataset.loc[cleaned_dataset['sentiment'] == 'positive']\n",
    "positve_rev"
   ]
  },
  {
   "cell_type": "code",
   "execution_count": 19,
   "metadata": {},
   "outputs": [
    {
     "data": {
      "text/html": [
       "<div>\n",
       "<style scoped>\n",
       "    .dataframe tbody tr th:only-of-type {\n",
       "        vertical-align: middle;\n",
       "    }\n",
       "\n",
       "    .dataframe tbody tr th {\n",
       "        vertical-align: top;\n",
       "    }\n",
       "\n",
       "    .dataframe thead th {\n",
       "        text-align: right;\n",
       "    }\n",
       "</style>\n",
       "<table border=\"1\" class=\"dataframe\">\n",
       "  <thead>\n",
       "    <tr style=\"text-align: right;\">\n",
       "      <th></th>\n",
       "      <th>review</th>\n",
       "      <th>sentiment</th>\n",
       "    </tr>\n",
       "  </thead>\n",
       "  <tbody>\n",
       "    <tr>\n",
       "      <th>0</th>\n",
       "      <td>[basically, theres, family, little, boy, jake,...</td>\n",
       "      <td>negative</td>\n",
       "    </tr>\n",
       "    <tr>\n",
       "      <th>1</th>\n",
       "      <td>[show, amazing, fresh, innovative, idea, 70s, ...</td>\n",
       "      <td>negative</td>\n",
       "    </tr>\n",
       "    <tr>\n",
       "      <th>2</th>\n",
       "      <td>[encouraged, positive, comments, film, looking...</td>\n",
       "      <td>negative</td>\n",
       "    </tr>\n",
       "    <tr>\n",
       "      <th>3</th>\n",
       "      <td>[phil, alien, one, quirky, films, humour, base...</td>\n",
       "      <td>negative</td>\n",
       "    </tr>\n",
       "    <tr>\n",
       "      <th>4</th>\n",
       "      <td>[saw, movie, 12, came, recall, scariest, scene...</td>\n",
       "      <td>negative</td>\n",
       "    </tr>\n",
       "    <tr>\n",
       "      <th>...</th>\n",
       "      <td>...</td>\n",
       "      <td>...</td>\n",
       "    </tr>\n",
       "    <tr>\n",
       "      <th>24693</th>\n",
       "      <td>[typical, junk, comedybr, br, almost, laughs, ...</td>\n",
       "      <td>negative</td>\n",
       "    </tr>\n",
       "    <tr>\n",
       "      <th>24694</th>\n",
       "      <td>[bad, plot, bad, dialogue, bad, acting, idioti...</td>\n",
       "      <td>negative</td>\n",
       "    </tr>\n",
       "    <tr>\n",
       "      <th>24695</th>\n",
       "      <td>[catholic, taught, parochial, elementary, scho...</td>\n",
       "      <td>negative</td>\n",
       "    </tr>\n",
       "    <tr>\n",
       "      <th>24696</th>\n",
       "      <td>[im, going, disagree, previous, comment, side,...</td>\n",
       "      <td>negative</td>\n",
       "    </tr>\n",
       "    <tr>\n",
       "      <th>24697</th>\n",
       "      <td>[one, expects, star, trek, movies, high, art, ...</td>\n",
       "      <td>negative</td>\n",
       "    </tr>\n",
       "  </tbody>\n",
       "</table>\n",
       "<p>24698 rows × 2 columns</p>\n",
       "</div>"
      ],
      "text/plain": [
       "                                                  review sentiment\n",
       "0      [basically, theres, family, little, boy, jake,...  negative\n",
       "1      [show, amazing, fresh, innovative, idea, 70s, ...  negative\n",
       "2      [encouraged, positive, comments, film, looking...  negative\n",
       "3      [phil, alien, one, quirky, films, humour, base...  negative\n",
       "4      [saw, movie, 12, came, recall, scariest, scene...  negative\n",
       "...                                                  ...       ...\n",
       "24693  [typical, junk, comedybr, br, almost, laughs, ...  negative\n",
       "24694  [bad, plot, bad, dialogue, bad, acting, idioti...  negative\n",
       "24695  [catholic, taught, parochial, elementary, scho...  negative\n",
       "24696  [im, going, disagree, previous, comment, side,...  negative\n",
       "24697  [one, expects, star, trek, movies, high, art, ...  negative\n",
       "\n",
       "[24698 rows x 2 columns]"
      ]
     },
     "execution_count": 19,
     "metadata": {},
     "output_type": "execute_result"
    }
   ],
   "source": [
    "negative_rev = cleaned_dataset.loc[cleaned_dataset['sentiment'] == 'negative']\n",
    "negative_rev"
   ]
  },
  {
   "cell_type": "code",
   "execution_count": 20,
   "metadata": {},
   "outputs": [
    {
     "name": "stdout",
     "output_type": "stream",
     "text": [
      "Total words in positive reviews: 3066073\n",
      "Total words in negative reviews: 3003043\n"
     ]
    }
   ],
   "source": [
    "#now count frequency of words, iterate each row in the both variables\n",
    "import itertools\n",
    "positive_reviews_words = list(itertools.chain(*positve_rev['review']))\n",
    "print(\"Total words in positive reviews:\", len(positive_reviews_words))\n",
    "\n",
    "negative_reviews_words = list(itertools.chain(*negative_rev['review']))\n",
    "print(\"Total words in negative reviews:\", len(negative_reviews_words))"
   ]
  },
  {
   "cell_type": "code",
   "execution_count": 21,
   "metadata": {},
   "outputs": [],
   "source": [
    "#count the appearance of each word\n",
    "import collections\n",
    "positive_words_frequency = collections.Counter(positive_reviews_words)\n",
    "#get the top 15 most frequent words in positive reviews\n",
    "positive_words_freq_df = pd.DataFrame(positive_words_frequency.most_common(15), columns=[\"Word\", \"Frequency\"])\n",
    "\n",
    "negative_words_frequency = collections.Counter(negative_reviews_words)\n",
    "#get the top 15 most frequent words in negative reviews\n",
    "negative_words_freq_df = pd.DataFrame(negative_words_frequency.most_common(15), columns=[\"Word\", \"Frequency\"])"
   ]
  },
  {
   "cell_type": "code",
   "execution_count": 22,
   "metadata": {},
   "outputs": [
    {
     "data": {
      "image/png": "[encoded data removed]",
      "text/plain": [
       "<Figure size 864x576 with 1 Axes>"
      ]
     },
     "metadata": {
      "needs_background": "light"
     },
     "output_type": "display_data"
    }
   ],
   "source": [
    "#visualize the results\n",
    "import matplotlib.pyplot as plt\n",
    "# set figure size\n",
    "fig, ax = plt.subplots(figsize=(12, 8))\n",
    "# plot horizontal bar plot\n",
    "positive_words_freq_df.sort_values(by='Frequency').plot.bar(x=\"Word\", y=\"Frequency\", ax=ax, color='c')\n",
    "# set the title\n",
    "plt.title(\"Most Common words in positive reviews\")\n",
    "plt.show()"
   ]
  },
  {
   "cell_type": "code",
   "execution_count": 23,
   "metadata": {},
   "outputs": [
    {
     "data": {
      "image/png": "[encoded data removed]",
      "text/plain": [
       "<Figure size 864x576 with 1 Axes>"
      ]
     },
     "metadata": {
      "needs_background": "light"
     },
     "output_type": "display_data"
    }
   ],
   "source": [
    "#visualize \n",
    "import matplotlib.pyplot as plt\n",
    "# set figure size\n",
    "fig, ax = plt.subplots(figsize=(12, 8))\n",
    "# plot horizontal bar plot\n",
    "negative_words_freq_df.sort_values(by='Frequency').plot.bar(x=\"Word\", y=\"Frequency\", ax=ax, color='r')\n",
    "# set the title\n",
    "plt.title(\"Most Common words in negative reviews\")\n",
    "plt.show()"
   ]
  },
  {
   "cell_type": "markdown",
   "metadata": {},
   "source": [
    "positive_words_freq_df.loc['bad']"
   ]
  },
  {
   "cell_type": "code",
   "execution_count": 24,
   "metadata": {},
   "outputs": [],
   "source": [
    "#count the matching words that appearce in both variabels\n",
    "count=0\n",
    "for i in range(len(positive_words_freq_df)):\n",
    "    for j in range(len(negative_words_freq_df)):\n",
    "        if positive_words_freq_df['Word'][i] == negative_words_freq_df['Word'][j]:\n",
    "            count+=1"
   ]
  },
  {
   "cell_type": "code",
   "execution_count": 25,
   "metadata": {},
   "outputs": [
    {
     "data": {
      "text/plain": [
       "11"
      ]
     },
     "execution_count": 25,
     "metadata": {},
     "output_type": "execute_result"
    }
   ],
   "source": [
    "count"
   ]
  },
  {
   "cell_type": "markdown",
   "metadata": {},
   "source": [
    "The top 15 most frequently word in each sentimint category shows that; 11 out of them were appeard in both sentimints. As a result, its hard to define or make a good decission whether its +ve or -ve review by a specific word exist in the text. For example, the word 'good' appeared in both and its one of the most frequently word and clearly its conffusing this will lead to faulse decission."
   ]
  }
 ],
 "metadata": {
  "kernelspec": {
   "display_name": "Python 3",
   "language": "python",
   "name": "python3"
  },
  "language_info": {
   "codemirror_mode": {
    "name": "ipython",
    "version": 3
   },
   "file_extension": ".py",
   "mimetype": "text/x-python",
   "name": "python",
   "nbconvert_exporter": "python",
   "pygments_lexer": "ipython3",
   "version": "3.7.6"
  }
 },
 "nbformat": 4,
 "nbformat_minor": 4
}
